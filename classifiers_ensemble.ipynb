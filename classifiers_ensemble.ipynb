{
 "cells": [
  {
   "cell_type": "code",
   "execution_count": null,
   "metadata": {
    "collapsed": false
   },
   "outputs": [],
   "source": [
    "import matplotlib.pyplot as plt\n",
    "import seaborn as sns\n",
    "from sklearn.datasets import make_classification\n",
    "from sklearn.decomposition import PCA\n",
    "\n",
    "from imblearn.under_sampling import NeighbourhoodCleaningRule\n",
    "import numpy as np\n",
    "import pandas as pd\n",
    "import matplotlib.pyplot as plt\n",
    "from matplotlib.colors import ListedColormap\n",
    "from sklearn.model_selection import train_test_split\n",
    "from sklearn.preprocessing import StandardScaler\n",
    "from sklearn.datasets import make_moons, make_circles, make_classification\n",
    "from sklearn.neural_network import MLPClassifier\n",
    "from sklearn.neighbors import KNeighborsClassifier\n",
    "from sklearn.svm import SVC\n",
    "from sklearn.gaussian_process import GaussianProcessClassifier\n",
    "from sklearn.gaussian_process.kernels import RBF\n",
    "from sklearn.tree import DecisionTreeClassifier\n",
    "from sklearn.ensemble import RandomForestClassifier, AdaBoostClassifier\n",
    "from sklearn.naive_bayes import GaussianNB\n",
    "from sklearn.discriminant_analysis import QuadraticDiscriminantAnalysis\n",
    "from sklearn.preprocessing import label_binarize\n",
    "from sklearn.metrics import roc_curve, auc\n",
    "from skbayes.rvm_ard_models import RVC\n",
    "from sklearn.metrics import confusion_matrix\n",
    "from sklearn.metrics import classification_report \n",
    "from sklearn import grid_search\n",
    "from imblearn.under_sampling import TomekLinks\n",
    "from imblearn.combine import SMOTETomek\n",
    "from imblearn.combine import SMOTEENN\n",
    "from imblearn.under_sampling import RandomUnderSampler\n",
    "from imblearn.under_sampling import (EditedNearestNeighbours,RepeatedEditedNearestNeighbours)"
   ]
  },
  {
   "cell_type": "code",
   "execution_count": null,
   "metadata": {
    "collapsed": true
   },
   "outputs": [],
   "source": [
    "names = [\"Nearest Neighbors\",\"RVM\", \"RBF SVM\", \"Gaussian Process\",\n",
    "         \"Random Forest\", \"Neural Net\"]\n",
    "\n",
    "classifiers = [\n",
    "    KNeighborsClassifier(p=2),\n",
    "    RVC(kernel='rbf'),\n",
    "    SVC(kernel='rbf'),\n",
    "    GaussianProcessClassifier(1.0 * RBF(0.5), warm_start=True),\n",
    "    RandomForestClassifier(max_depth=3, n_estimators=100),\n",
    "    MLPClassifier(alpha=0.5)]"
   ]
  },
  {
   "cell_type": "code",
   "execution_count": null,
   "metadata": {
    "collapsed": false
   },
   "outputs": [],
   "source": [
    "wb=pd.ExcelFile(r\"C:\\Users\\cvck2\\Desktop\\akis_data\\akis_cleared.xlsx\")\n",
    "sheet1=pd.read_excel(r\"C:\\Users\\cvck2\\Desktop\\akis_data\\akis_cleared.xlsx\",sheetname=0)\n",
    "print sheet1.columns\n",
    "df=pd.DataFrame(sheet1[\"Sp_up_t-5\"])\n",
    "df2=pd.DataFrame(sheet1[\"Sp_down_t-5\"])\n",
    "df3=pd.DataFrame(sheet1[\"Vol_up_t-5\"])\n",
    "df4=pd.DataFrame(sheet1[\"Vol_down_t-5\"])\n",
    "df5=pd.DataFrame(sheet1[\"Occ_up_t-5\"])\n",
    "df6=pd.DataFrame(sheet1[\"Occ_down_t-5\"])\n",
    "dfall=[df,df2,df3,df4,df5,df6]\n",
    "\n",
    "X=pd.concat(dfall,axis=1)\n",
    "response=pd.DataFrame(sheet1[\"Accident\"])\n",
    "respomse=np.ravel(response)\n",
    "r_binary=label_binarize(respomse,classes=[0,1])\n",
    "y=np.ravel(r_binary)\n",
    "sm = SMOTEENN()\n",
    "X_resampled, y_resampled = sm.fit_sample(X, y)"
   ]
  },
  {
   "cell_type": "code",
   "execution_count": null,
   "metadata": {
    "collapsed": true
   },
   "outputs": [],
   "source": [
    "parameters_svm=[{'gamma': np.linspace(1e-4,1,num=100),'C': [0.1, 0.3, 0.5, 1, 10, 100]}]\n",
    "parameters_rvm=[{'gamma': np.linspace(1e-4,1,num=100)}]\n",
    "parameters_gp=[{'length_scale': np.linspace(1e-4,1,num=100)}]\n",
    "parameters_knn=[{'n_neighbors':np.linspace(10,200,50)}]"
   ]
  },
  {
   "cell_type": "code",
   "execution_count": null,
   "metadata": {
    "collapsed": false
   },
   "outputs": [],
   "source": [
    "X_train, X_test, y_train, y_test = train_test_split(X_resampled,y_resampled, test_size=0.33, random_state=0)"
   ]
  },
  {
   "cell_type": "code",
   "execution_count": null,
   "metadata": {
    "collapsed": false
   },
   "outputs": [],
   "source": [
    "plt.figure(figsize=(10, 10))\n",
    "for name, clf in zip(names, classifiers):\n",
    "    if name==\"RVM\":\n",
    "        CV_clf = grid_search.GridSearchCV(clf, parameters_rvm, cv=10)\n",
    "        \n",
    "        clf=CV_clf.fit(X_train, y_train)\n",
    "        print(clf.best_estimator_)\n",
    "    elif name==\"RBF SVM\":\n",
    "        CV_clf = grid_search.GridSearchCV(clf, parameters_svm, cv=10)\n",
    "        \n",
    "        clf=CV_clf.fit(X_train, y_train)\n",
    "        print(clf.best_estimator_)\n",
    "    elif name==\"Nearest Neighbors\":\n",
    "        CV_clf=grid_search.GridSearchCV(clf, parameters_knn, cv=10)\n",
    "        CV_clf2= CV_clf.estimator\n",
    "        clf=CV_clf2.fit(X_train, y_train)\n",
    "        print(CV_clf2)\n",
    "    else: clf.fit(X_train,y_train)\n",
    "    \n",
    "   \n",
    "        # Plot the decision boundary. For that, we will assign a color to each\n",
    "        # point in the mesh [x_min, x_max]x[y_min, y_max].\n",
    "    if hasattr(clf, \"decision_function\"):\n",
    "            Z = clf.decision_function(X_test)\n",
    "    else:\n",
    "            Z = clf.predict_proba(X_test)[:, 1]\n",
    "    y_pred=clf.predict(X_test)\n",
    "    fpr,tpr, _ =roc_curve(y_test,Z)\n",
    "    roc_auc=auc(fpr,tpr)\n",
    "    print 'Confusion Matrix' + repr(name) \n",
    "    print confusion_matrix(y_test,y_pred)\n",
    "    print 'Classification Report' +repr(name)\n",
    "    print classification_report(y_test,y_pred)\n",
    "    lw = 2\n",
    "    plt.plot(fpr, tpr, \"-\", label=\"%s'ROC curve area = %0.2f)' \" % (name,roc_auc), lw=2 )\n",
    "plt.plot([0, 1], [0, 1], 'k--',lw=3, label=\"Random Guess\")\n",
    "plt.xlabel('False positive rate')\n",
    "plt.ylabel('True positive rate')\n",
    "plt.title('ROC curve of classifiers using 5-minute traffic data from Athens')\n",
    "plt.legend(loc='best')\n",
    "plt.savefig('ROC_5_akis_nc.png')\n",
    "plt.show()"
   ]
  },
  {
   "cell_type": "code",
   "execution_count": null,
   "metadata": {
    "collapsed": true
   },
   "outputs": [],
   "source": []
  },
  {
   "cell_type": "code",
   "execution_count": null,
   "metadata": {
    "collapsed": true
   },
   "outputs": [],
   "source": []
  }
 ],
 "metadata": {
  "kernelspec": {
   "display_name": "Python 2",
   "language": "python",
   "name": "python2"
  },
  "language_info": {
   "codemirror_mode": {
    "name": "ipython",
    "version": 2
   },
   "file_extension": ".py",
   "mimetype": "text/x-python",
   "name": "python",
   "nbconvert_exporter": "python",
   "pygments_lexer": "ipython2",
   "version": "2.7.13"
  }
 },
 "nbformat": 4,
 "nbformat_minor": 2
}
